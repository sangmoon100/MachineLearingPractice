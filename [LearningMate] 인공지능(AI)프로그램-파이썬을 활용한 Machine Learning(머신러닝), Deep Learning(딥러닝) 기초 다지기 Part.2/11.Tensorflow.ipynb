{
 "cells": [
  {
   "cell_type": "markdown",
   "metadata": {},
   "source": [
    "TensorFlow : 구글이 오픈소스로 공개한 머신러닝 라이브러리\n",
    " \n",
    "- 딥러닝을 비롯한 여러 머신러닝에 사용되는 인기 있는 라이브러리\n",
    "- 대규모 숫자 계산을 해주는 라이브러리\n",
    "- 자체는 C++로 만들어진 라이브러리\n",
    "- 일반적인 프로그래밍 방식과는 다른 개념들을 포함한다.\n",
    "\n",
    "설치과정\n",
    "- pip3 install --upgrade tensorflow\n",
    "\n",
    "tensorflow 사용하기\n",
    "- import tensorflow as tf\n",
    "\n",
    "tensorflow의 자료형\n",
    "- tensor : \n",
    "  - tensorflow에서 다양한 수학식을 계산하기 위한 가장 기본적으로 중요한 자료형\n",
    "  - tensor의 형태는 배열과 비슷\n",
    "  - Rank와 Shape라는 개념을 가지고 있다.\n",
    "  - Rank 값 : \n",
    "    - 0 : 스칼라\n",
    "    - 1 : 벡터\n",
    "    - 2 : 행렬\n",
    "    - 3 이상 : n-Tensor 또는 n차원 텐서\n",
    "  - Shape\n",
    "    - 각 차원의 요소 개수를 의미, 텐서의 구조를 설명\n",
    "  - dtype\n",
    "    - 해당 텐서에 담긴 요소들의 자료형\n",
    "    - string, float, int 등이 올 수 있다.\n",
    "    \n",
    "tensorflow 프로그램 구조\n",
    "- 그래프 생성\n",
    "- 그래프 실행\n",
    "  - 그래프 : tensor들의 연산 모음\n",
    "  - 지연실행(lazy evaluation) : 함수형 프로그래밍에서 많이 사용\n",
    "    - tensor와 tensor의 연산들을 미리 정의하여 그래프를 만들고, 필요할 때 연산을 실행하는 코드를 넣어 원하는 시점에 실제 연산을 수행하도록 하는 방식 \n",
    "  - tensorflow 프로그램의 장점\n",
    "    - 모델 구성과 실행을 분리하여 프로그램을 깔금하게 작성 할 수 있다."
   ]
  },
  {
   "cell_type": "code",
   "execution_count": 1,
   "metadata": {},
   "outputs": [
    {
     "ename": "ModuleNotFoundError",
     "evalue": "No module named 'tensorflow'",
     "output_type": "error",
     "traceback": [
      "\u001b[1;31m---------------------------------------------------------------------------\u001b[0m",
      "\u001b[1;31mModuleNotFoundError\u001b[0m                       Traceback (most recent call last)",
      "\u001b[1;32m<ipython-input-1-fda8a9e649bb>\u001b[0m in \u001b[0;36m<module>\u001b[1;34m()\u001b[0m\n\u001b[1;32m----> 1\u001b[1;33m \u001b[1;32mimport\u001b[0m \u001b[0mtensorflow\u001b[0m \u001b[1;32mas\u001b[0m \u001b[0mtf\u001b[0m\u001b[1;33m\u001b[0m\u001b[0m\n\u001b[0m\u001b[0;32m      2\u001b[0m \u001b[1;33m\u001b[0m\u001b[0m\n\u001b[0;32m      3\u001b[0m \u001b[0mhello\u001b[0m \u001b[1;33m=\u001b[0m \u001b[0mtf\u001b[0m\u001b[1;33m.\u001b[0m\u001b[0mconstant\u001b[0m\u001b[1;33m(\u001b[0m\u001b[1;34m'Hello, Tensorflow'\u001b[0m\u001b[1;33m)\u001b[0m\u001b[1;33m\u001b[0m\u001b[0m\n",
      "\u001b[1;31mModuleNotFoundError\u001b[0m: No module named 'tensorflow'"
     ]
    }
   ],
   "source": [
    "import tensorflow as tf\n",
    "\n",
    "hello = tf.constant('Hello, Tensorflow')\n",
    "a = tf.constant(11)\n",
    "b = tf.constant(20)\n",
    "c = tf.add(a,b)\n",
    "c\n",
    "\n",
    "sess = tf.session()\n",
    "print(sess.run(c))\n",
    "\n",
    "sess.close()"
   ]
  }
 ],
 "metadata": {
  "kernelspec": {
   "display_name": "Python 3",
   "language": "python",
   "name": "python3"
  },
  "language_info": {
   "codemirror_mode": {
    "name": "ipython",
    "version": 3
   },
   "file_extension": ".py",
   "mimetype": "text/x-python",
   "name": "python",
   "nbconvert_exporter": "python",
   "pygments_lexer": "ipython3",
   "version": "3.6.4"
  }
 },
 "nbformat": 4,
 "nbformat_minor": 2
}

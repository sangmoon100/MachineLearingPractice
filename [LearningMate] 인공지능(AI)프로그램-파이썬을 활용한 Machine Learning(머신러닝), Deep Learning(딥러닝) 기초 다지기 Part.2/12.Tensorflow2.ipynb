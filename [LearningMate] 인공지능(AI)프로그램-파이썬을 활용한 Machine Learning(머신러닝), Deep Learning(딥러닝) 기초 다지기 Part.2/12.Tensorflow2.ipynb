{
 "cells": [
  {
   "cell_type": "markdown",
   "metadata": {},
   "source": [
    "텐서플로우 프로그래밍시 반드시 알아야 할 개념 두가지\n",
    "- 플레이스홀더(placeholder) : 그래프에 사용할 입력값을 나중에 받기 위해 사용하는 매개변수(parameter)와 같은 개념\n",
    "- 변수 : 그래프를 최적화하는 용도로 텐섶플로우가 학습한 결과를 갱신하기 위해 사용하는 것이 변수이다. (변수의 값들이 신경망의 성능을 좌우한다.)"
   ]
  },
  {
   "cell_type": "code",
   "execution_count": 1,
   "metadata": {},
   "outputs": [
    {
     "ename": "ModuleNotFoundError",
     "evalue": "No module named 'tensorflow'",
     "output_type": "error",
     "traceback": [
      "\u001b[1;31m---------------------------------------------------------------------------\u001b[0m",
      "\u001b[1;31mModuleNotFoundError\u001b[0m                       Traceback (most recent call last)",
      "\u001b[1;32m<ipython-input-1-64156d691fe5>\u001b[0m in \u001b[0;36m<module>\u001b[1;34m()\u001b[0m\n\u001b[1;32m----> 1\u001b[1;33m \u001b[1;32mimport\u001b[0m \u001b[0mtensorflow\u001b[0m \u001b[1;32mas\u001b[0m \u001b[0mtf\u001b[0m\u001b[1;33m\u001b[0m\u001b[0m\n\u001b[0m",
      "\u001b[1;31mModuleNotFoundError\u001b[0m: No module named 'tensorflow'"
     ]
    }
   ],
   "source": [
    "import tensorflow as tf"
   ]
  },
  {
   "cell_type": "code",
   "execution_count": null,
   "metadata": {},
   "outputs": [],
   "source": [
    "# 플레이스홀더 정의하기\n",
    "a = tf.placeholder(tf.int32, [3])\n",
    "\n",
    "# 배열을 2배로 하는 연산 정의하기\n",
    "b = tf.constant(2)\n",
    "x2 = a * b\n",
    "\n",
    "bb = tf.constant(10)\n",
    "x10 = aa * bb\n",
    "\n",
    "sess = tf.Session()\n",
    "\n",
    "# 플레이스 홀더에 값을 넣고 실행하기\n",
    "r1 = sess.run(x2, feed_dic = {a : [1,2,3]})\n",
    "rr1 = sess.run(x10, feed_dic = {aa : [1,2,3,4]})\n",
    "print(r1)\n",
    "print(rr1)\n",
    "\n",
    "r2 = sess.run(x2, feed_dic= {a : [11,22,33]})\n",
    "rr2 = sess.run(x10, feed_dic = {aa : [1,2,3,4,5,6,7,8]})\n",
    "print(r2)\n",
    "print(rr2)"
   ]
  }
 ],
 "metadata": {
  "kernelspec": {
   "display_name": "Python 3",
   "language": "python",
   "name": "python3"
  },
  "language_info": {
   "codemirror_mode": {
    "name": "ipython",
    "version": 3
   },
   "file_extension": ".py",
   "mimetype": "text/x-python",
   "name": "python",
   "nbconvert_exporter": "python",
   "pygments_lexer": "ipython3",
   "version": "3.6.4"
  }
 },
 "nbformat": 4,
 "nbformat_minor": 2
}

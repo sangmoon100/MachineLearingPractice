{
 "cells": [
  {
   "cell_type": "markdown",
   "metadata": {},
   "source": [
    "### #신경망 : 입력창과 은닉층, 출력층으로 이루어져있다.\n",
    "- 은닉층(사람 누에 보이지 않는 층)은 중간층을 말한다.\n",
    "- 입력층(0층), 은니층(1층), 출력층(2층)은 앞시간에 배웠던 퍼셉트론의 신호전달 방식과 공통점이 있다.\n",
    "\n",
    "##### 활성화 함수를 이용한 퍼셉트론 식\n",
    "- y=h(b+w1*x1+w2*x2)\n",
    "- h(x) = 0(x<=0) 이 때 x는 입력신호의 총합\n",
    "- h(x) = 1(x>0)\n",
    "- 입력신호의 총합을 출력신호로 변환하는 함수를 \"활성화 함수\" 라고 한다.\n",
    "\n",
    "#### [시그모이드(sigmoid)함수]\n",
    "- 신경망에서 자주 이용하는 활성화 함수 중의 하나이다.\n",
    "- h(x)= 1/1+exp(-x)\n",
    "\n",
    "#### [계단 함수]\n",
    "- 임계값을 경계로 출력이 바뀌는 함수\n",
    "\n",
    "#### 계단함수와 시그모이드 함수의 공통점\n",
    "- 비선형 함수 : 직선하나로는 그릴수 없는 함수\n",
    "- 따라서, 신경망에서는 활성화 함수로는 비선형함수를 사용해야 한다.\n",
    "\n",
    "#### [ReLU 함수]\n",
    "- Rectified Linear Unit 함수 : 입력이 0을 넘으면 그 입력을 그대로 출력하고, 0이하면 0을 출력하는 함수이다.\n",
    "- h(x) = x(x>0)\n",
    "- h(x) = 0(x<=0)\n",
    "\n",
    "#### 행렬의 곱(행렬의 내적)\n",
    "- 2차원 배열의 내적(행렬의 곱)\n",
    "- 파이썬에서 내적을 구하기\n",
    "  - A = np.array([1,2],[3,4])\n",
    "  - B = np.array([5,6],[7,8])\n",
    "  - np.dot(A,B) # 내적을 구하는 함수\n",
    "  - 행렬의 내적은 형상에 주의 해야한다.\n",
    "  - 행렬의 내적은 대응하는 차원의 원소 수를 일치 시켜야 한다.\n",
    "\n",
    "#### 신경망의 내적(가중치만 적용)\n",
    "- X = np.array([1,2]) #입력신호\n",
    "- W = np.array([[1,3,5],[2,4,6]]) # 1,3,5는 x1의 가중치 / 2,4,6은 x2d의 가중치\n",
    "- Y = np.dot(X,W)"
   ]
  },
  {
   "cell_type": "code",
   "execution_count": 1,
   "metadata": {},
   "outputs": [],
   "source": [
    "import numpy as np"
   ]
  },
  {
   "cell_type": "code",
   "execution_count": 2,
   "metadata": {},
   "outputs": [],
   "source": [
    "def step_func(x):\n",
    "    y = x > 0\n",
    "    return y.astype(np.int)"
   ]
  },
  {
   "cell_type": "code",
   "execution_count": 3,
   "metadata": {},
   "outputs": [
    {
     "data": {
      "text/plain": [
       "array([1, 0])"
      ]
     },
     "execution_count": 3,
     "metadata": {},
     "output_type": "execute_result"
    }
   ],
   "source": [
    "step_func(np.array([1,-0.5]))"
   ]
  }
 ],
 "metadata": {
  "kernelspec": {
   "display_name": "Python 3",
   "language": "python",
   "name": "python3"
  },
  "language_info": {
   "codemirror_mode": {
    "name": "ipython",
    "version": 3
   },
   "file_extension": ".py",
   "mimetype": "text/x-python",
   "name": "python",
   "nbconvert_exporter": "python",
   "pygments_lexer": "ipython3",
   "version": "3.6.4"
  }
 },
 "nbformat": 4,
 "nbformat_minor": 2
}

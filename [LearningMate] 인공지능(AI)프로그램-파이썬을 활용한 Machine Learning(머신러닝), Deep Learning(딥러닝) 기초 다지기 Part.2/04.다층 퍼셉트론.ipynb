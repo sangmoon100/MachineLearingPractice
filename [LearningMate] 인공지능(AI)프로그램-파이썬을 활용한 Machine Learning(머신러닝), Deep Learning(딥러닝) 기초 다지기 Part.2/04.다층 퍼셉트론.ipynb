{
 "cells": [
  {
   "cell_type": "markdown",
   "metadata": {},
   "source": [
    "###### 다층 퍼셉트론(Multi Layer Perceptron)\n",
    "- 단층 퍼셉트론으로는 XOR게이트를 표현할 수 없다.\n",
    "  - 즉, 단층 퍼셉트론으로는 비선형 영역을 분리할 수 없다.\n",
    "- 기존 게이트(AND, OR, NAND) 조합하여 층을 쌓으면 XOR 게이트를 구현 할 수 있게 된다."
   ]
  },
  {
   "cell_type": "code",
   "execution_count": null,
   "metadata": {},
   "outputs": [],
   "source": [
    "'''\n",
    "게이트를 조합한 XOR 게이트의 진리표\n",
    "x1    x2    s1    s2    y\n",
    "---------------------------\n",
    "0     0      1     0    0\n",
    "0     1      1     1    1\n",
    "1     0      1     1    1\n",
    "1     1      0     1    0\n",
    "---------------------------\n",
    "\n",
    "'''"
   ]
  }
 ],
 "metadata": {
  "kernelspec": {
   "display_name": "Python 3",
   "language": "python",
   "name": "python3"
  },
  "language_info": {
   "codemirror_mode": {
    "name": "ipython",
    "version": 3
   },
   "file_extension": ".py",
   "mimetype": "text/x-python",
   "name": "python",
   "nbconvert_exporter": "python",
   "pygments_lexer": "ipython3",
   "version": "3.6.4"
  }
 },
 "nbformat": 4,
 "nbformat_minor": 2
}

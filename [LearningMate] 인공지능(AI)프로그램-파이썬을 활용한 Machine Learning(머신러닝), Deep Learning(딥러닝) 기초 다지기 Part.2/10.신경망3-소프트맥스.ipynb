{
 "cells": [
  {
   "cell_type": "markdown",
   "metadata": {},
   "source": [
    "기계 학습의 문제 :\n",
    "- 분류(classfication)\n",
    "- 회귀(regression)\n",
    "\n",
    "##### 신경망에서는 회귀에 사용하는 활성함수로 항등함수를 사용한다.\n",
    "##### 분류에 사용하는 활성함수로 소프트맥스 함수를 사용한다. \n"
   ]
  },
  {
   "cell_type": "code",
   "execution_count": 14,
   "metadata": {},
   "outputs": [],
   "source": [
    "import numpy as np\n",
    "\n",
    "# [소프트맥스 함수 정의]\n",
    "def softmax(a):\n",
    "    exp_a = np.exp(a)\n",
    "    sum_exp_a = np.sum(exp_a)\n",
    "    \n",
    "    y = exp_a/sum_exp_a\n",
    "    \n",
    "    return y\n",
    "\n",
    "# [개선된 소프트맥스 함수 정의]\n",
    "def imp_softmax(a):\n",
    "    c = np.max(a)\n",
    "    exp_a = np.exp(a-c) # 오버플로우를 막기 위해서\n",
    "    sum_exp_a = np.sum(exp_a)\n",
    "    \n",
    "    y = exp_a/sum_exp_a\n",
    "    \n",
    "    return y"
   ]
  },
  {
   "cell_type": "code",
   "execution_count": 16,
   "metadata": {},
   "outputs": [
    {
     "data": {
      "text/plain": [
       "1.0"
      ]
     },
     "execution_count": 16,
     "metadata": {},
     "output_type": "execute_result"
    }
   ],
   "source": [
    "# 컴퓨터상에서 수치가 커서 수치계산 오류가 뜬다.\n",
    "a = np.array([0.2, 2.9, 4.0])\n",
    "y = softmax(a)\n",
    "\n",
    "a = np.array([1010, 1000, 950])\n",
    "c = np.max(a)\n",
    "a - c\n",
    "\n",
    "np.exp(a-c) / np.sum(np.exp(a-c))\n",
    "y = imp_softmax(a)\n",
    "\n",
    "np.sum(y)"
   ]
  },
  {
   "cell_type": "markdown",
   "metadata": {},
   "source": [
    "[ 소프트맥스 함수의 특징 ]\n",
    "\n",
    "\n",
    "##### 소프트맥스 함수에 의한 출력은 0에서 1.0사이의 실수 값이 출력된다.\n",
    "##### 이때의 출력값의 총 합은 항상 1이 된다는 점이 소프트맥스 함수의 특징이다.\n",
    "##### 이 특징은 이 함수의 중요한 특징이다.\n",
    "\n",
    "즉, 이 출력값은 확률로 해석할 수 있다. 문제를 통계적으로 대응할 수 있다.\n",
    "\n",
    "각 원소의 대소 관계는 소프트맥스 함수의 출력값의 대소 관계와 동일하다.\n",
    "\n",
    "##### 신경망을 이용한 분류에서는  출력층의 소프트맥스 함수를 생략해도 무방하다.\n",
    "##### 소프트맥스 함수를 적용하지 않더라도 결과는 동일하기 때문이다.\n",
    "\n",
    "현업에서는 실질적으로 지수 함수 계산에 드는 자원 낭비를 줄일 수 있기 때문에 일반적으로 출력층에서 소프트맥스 함수를 생략하여 사용한다."
   ]
  }
 ],
 "metadata": {
  "kernelspec": {
   "display_name": "Python 3",
   "language": "python",
   "name": "python3"
  },
  "language_info": {
   "codemirror_mode": {
    "name": "ipython",
    "version": 3
   },
   "file_extension": ".py",
   "mimetype": "text/x-python",
   "name": "python",
   "nbconvert_exporter": "python",
   "pygments_lexer": "ipython3",
   "version": "3.6.4"
  }
 },
 "nbformat": 4,
 "nbformat_minor": 2
}

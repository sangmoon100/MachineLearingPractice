{
 "cells": [
  {
   "cell_type": "code",
   "execution_count": 10,
   "metadata": {},
   "outputs": [],
   "source": [
    "# scikit-learn의 부꽃 데이터 셋을 가져오기\n",
    "from sklearn.datasets import load_iris\n",
    "import numpy as np"
   ]
  },
  {
   "cell_type": "code",
   "execution_count": 2,
   "metadata": {},
   "outputs": [],
   "source": [
    "# load_iris() 함수가 리턴하는 객체는 Bunch클래스 객체\n",
    "# Bunch클래스 객체는 파이썬의 Dictionary와 유사한 객체로 키와 값으로 구성되어있다.\n",
    "irisData = load_iris()"
   ]
  },
  {
   "cell_type": "code",
   "execution_count": 3,
   "metadata": {},
   "outputs": [],
   "source": [
    "# 훈력 데이터와 테스트 데이터를 나누기 위한 함수\n",
    "# train_test_split모듈에 있는 train_test_split()\n",
    "# train_test_slpit모듈은 sklearn.model_selection\n",
    "from sklearn.model_selection import train_test_split\n",
    "\n",
    "# scikit-learn 에서 데이터는 대문자 X로 표시하고 레이블은 y로 표시한다."
   ]
  },
  {
   "cell_type": "code",
   "execution_count": 4,
   "metadata": {},
   "outputs": [
    {
     "data": {
      "text/plain": [
       "(112, 4)"
      ]
     },
     "execution_count": 4,
     "metadata": {},
     "output_type": "execute_result"
    }
   ],
   "source": [
    "X_train, X_test, y_train, y_test = train_test_split(\n",
    "    irisData['data'],irisData['target'], random_state = 0)\n",
    "\n",
    "# train_test_split()의 리턴 타입은 모두 numpy 배열\n",
    "X_train.shape"
   ]
  },
  {
   "cell_type": "code",
   "execution_count": 5,
   "metadata": {},
   "outputs": [
    {
     "data": {
      "text/plain": [
       "(38, 4)"
      ]
     },
     "execution_count": 5,
     "metadata": {},
     "output_type": "execute_result"
    }
   ],
   "source": [
    "X_test.shape"
   ]
  },
  {
   "cell_type": "code",
   "execution_count": 6,
   "metadata": {},
   "outputs": [
    {
     "data": {
      "text/plain": [
       "(112,)"
      ]
     },
     "execution_count": 6,
     "metadata": {},
     "output_type": "execute_result"
    }
   ],
   "source": [
    "y_train.shape"
   ]
  },
  {
   "cell_type": "code",
   "execution_count": 7,
   "metadata": {},
   "outputs": [
    {
     "data": {
      "text/plain": [
       "(38,)"
      ]
     },
     "execution_count": 7,
     "metadata": {},
     "output_type": "execute_result"
    }
   ],
   "source": [
    "y_test.shape"
   ]
  },
  {
   "cell_type": "markdown",
   "metadata": {},
   "source": [
    "- KNN(K Nearest Neighbors) : K-최근접 이웃 알고리즘\n",
    "  - 사용하기 쉬운 분류 알고리즘(분류기) 중의 하나이다.\n",
    "- k의 의미는 가장 가까운 이웃 하나를 의미하는 것이 아니라 훈련 데이터에서 새운 데이터에 가장 가까운 k객의 이웃을 찾는다는 의미(세개 혹은 다섯개)\n",
    "- KNN을 사용하기 위해서는 neighbors모듈에 KNeighborClassifier 함수를 사용한다\n",
    "  - KNeighborClassifier() 함수에 중요한 매개변수는 n_neighbors\n",
    "  - 이 매개 변수는 이웃의 개수를 지정하는 매개변수이다."
   ]
  },
  {
   "cell_type": "code",
   "execution_count": 8,
   "metadata": {},
   "outputs": [],
   "source": [
    "from sklearn.neighbors import KNeighborsClassifier\n",
    "\n",
    "knn = KNeighborsClassifier(n_neighbors = 1)"
   ]
  },
  {
   "cell_type": "markdown",
   "metadata": {},
   "source": [
    "- 훈련 데이터셋을 가지고 모델을 만들려면 fit메서드 사용한다.\n",
    "  - fit 메서드의 리턴 값은 knn객체를 리턴한다."
   ]
  },
  {
   "cell_type": "code",
   "execution_count": 9,
   "metadata": {},
   "outputs": [
    {
     "data": {
      "text/plain": [
       "KNeighborsClassifier(algorithm='auto', leaf_size=30, metric='minkowski',\n",
       "           metric_params=None, n_jobs=1, n_neighbors=1, p=2,\n",
       "           weights='uniform')"
      ]
     },
     "execution_count": 9,
     "metadata": {},
     "output_type": "execute_result"
    }
   ],
   "source": [
    "knn.fit(X_train, y_train)"
   ]
  },
  {
   "cell_type": "markdown",
   "metadata": {},
   "source": [
    "- 채집한 붓꽃의 새로운 데이터(샘플)라고 가정하고 Numpy 배열로 측정값을 만든다.\n",
    "- scikit-learn에서는 항상 데이터가 2차원 배열일 것으로 예측해야 한다."
   ]
  },
  {
   "cell_type": "code",
   "execution_count": 12,
   "metadata": {},
   "outputs": [
    {
     "data": {
      "text/plain": [
       "(1, 4)"
      ]
     },
     "execution_count": 12,
     "metadata": {},
     "output_type": "execute_result"
    }
   ],
   "source": [
    "X_newData = np.array([\n",
    "    [5.1, 2.9, 1, 0.3]\n",
    "])\n",
    "X_newData.shape"
   ]
  },
  {
   "cell_type": "markdown",
   "metadata": {},
   "source": [
    "- knn 객체의 predict() 메서드를 사용하여 예측을 할 수 있다."
   ]
  },
  {
   "cell_type": "code",
   "execution_count": 17,
   "metadata": {},
   "outputs": [
    {
     "name": "stdout",
     "output_type": "stream",
     "text": [
      "예측 : [0]\n",
      "예측 품종의 이름 : ['setosa']\n"
     ]
    }
   ],
   "source": [
    "prediction = knn.predict(X_newData)\n",
    "print(\"예측 : {}\".format(prediction))\n",
    "print(\"예측 품종의 이름 : {}\".format(irisData['target_names'][prediction]))"
   ]
  },
  {
   "cell_type": "code",
   "execution_count": 19,
   "metadata": {},
   "outputs": [
    {
     "data": {
      "text/plain": [
       "array([2, 1, 0, 2, 0, 2, 0, 1, 1, 1, 2, 1, 1, 1, 1, 0, 1, 1, 0, 0, 2, 1,\n",
       "       0, 0, 2, 0, 0, 1, 1, 0, 2, 1, 0, 2, 2, 1, 0, 2])"
      ]
     },
     "execution_count": 19,
     "metadata": {},
     "output_type": "execute_result"
    }
   ],
   "source": [
    "y_predict = knn.predict(X_test)\n",
    "y_predict"
   ]
  },
  {
   "cell_type": "code",
   "execution_count": 20,
   "metadata": {},
   "outputs": [
    {
     "data": {
      "text/plain": [
       "2.0"
      ]
     },
     "execution_count": 20,
     "metadata": {},
     "output_type": "execute_result"
    }
   ],
   "source": [
    "x = np.array([1,2,3,2])\n",
    "np.mean(x)"
   ]
  },
  {
   "cell_type": "code",
   "execution_count": 21,
   "metadata": {},
   "outputs": [
    {
     "data": {
      "text/plain": [
       "array([ True,  True,  True])"
      ]
     },
     "execution_count": 21,
     "metadata": {},
     "output_type": "execute_result"
    }
   ],
   "source": [
    "a = np.array([1,2,3])\n",
    "b = np.array([1,2,3])\n",
    "a == b"
   ]
  },
  {
   "cell_type": "code",
   "execution_count": 22,
   "metadata": {},
   "outputs": [
    {
     "data": {
      "text/plain": [
       "1.0"
      ]
     },
     "execution_count": 22,
     "metadata": {},
     "output_type": "execute_result"
    }
   ],
   "source": [
    "np.mean(a == b)"
   ]
  },
  {
   "cell_type": "code",
   "execution_count": 23,
   "metadata": {},
   "outputs": [
    {
     "data": {
      "text/plain": [
       "0.6666666666666666"
      ]
     },
     "execution_count": 23,
     "metadata": {},
     "output_type": "execute_result"
    }
   ],
   "source": [
    "b = np.array([1,1,3])\n",
    "np.mean(a==b)"
   ]
  },
  {
   "cell_type": "markdown",
   "metadata": {},
   "source": [
    "- 정확도를 계산하기 위해서 numpy의 mean()메서드를 이용\n",
    "- knn객체의 score()메서드를 사용해도된더,"
   ]
  },
  {
   "cell_type": "code",
   "execution_count": 34,
   "metadata": {},
   "outputs": [
    {
     "name": "stdout",
     "output_type": "stream",
     "text": [
      "정확도 : 0.97\n",
      "정확도 : 0.97\n"
     ]
    }
   ],
   "source": [
    "print(\"정확도 : {:.2f}\".format(np.mean(y_predict == y_test)))\n",
    "print(\"정확도 : {:.2f}\".format(knn.score(X_test,y_test)))"
   ]
  },
  {
   "cell_type": "markdown",
   "metadata": {},
   "source": [
    "- 머신 러닝의 용어 정리\n",
    "  - iris분류 문제 있어서 각 품종을 클래스라고 한다.\n",
    "  - 개별 붓꽃의 품종은 레이블이라고 한다.\n",
    "  - 붓꽃의 데이터 셋은 두 개의 Numpy 배열로 이루어져 있다.\n",
    "    - 하나는 데이터, 다른 하나는 출력을 가지고 있다.\n",
    "    - scikit-learn에서는 데이터는 X로 표기하고, 출력은 y로 표기한다.\n",
    "    - 이때 배열X는 2차원 배열이고 각행은 데이터포인트(샘플)에 해당된다.\n",
    "    - 배열 y는 1차원 배열이고, 각 샘플의 클래스 레이블에 해당한다."
   ]
  }
 ],
 "metadata": {
  "kernelspec": {
   "display_name": "Python 3",
   "language": "python",
   "name": "python3"
  },
  "language_info": {
   "codemirror_mode": {
    "name": "ipython",
    "version": 3
   },
   "file_extension": ".py",
   "mimetype": "text/x-python",
   "name": "python",
   "nbconvert_exporter": "python",
   "pygments_lexer": "ipython3",
   "version": "3.6.4"
  }
 },
 "nbformat": 4,
 "nbformat_minor": 2
}

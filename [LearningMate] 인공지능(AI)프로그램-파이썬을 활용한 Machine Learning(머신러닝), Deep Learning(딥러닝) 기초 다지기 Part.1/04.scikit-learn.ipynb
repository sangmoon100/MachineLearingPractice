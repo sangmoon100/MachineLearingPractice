{
 "cells": [
  {
   "cell_type": "markdown",
   "metadata": {},
   "source": [
    "#### scikit-lean : 파이썬 머신러닝 라이브러리\n",
    "- 머신러닝의 응용분야\n",
    "  - 분류(Classfication)\n",
    "    - 특정 데이터에 레이블을 붙여 분류할 수 있다.\n",
    "  - 군집화(Clustring)\n",
    "    - 값의 유사성을 기반으로 데이터를 여러 그룹으로 나누는 것\n",
    "  - 추천(Recommendation)\n",
    "    - 특정 데이터를 기반으로 해서 다른 데이터를 추천하는 것(인터넷 서점에서 구매한 책들을 기반으로 다른 책을 추천하는 경우)\n",
    "  - 회귀(Regression)\n",
    "    - 과거의 데이터를 기반으로 해서 미래의 데이터를 예측하는 것(판매 예측, 주가 변동)\n",
    "  - 차원 축소\n",
    "    - 데이터의 특성을 유지하면서 데이터의 양을 줄여주는 것\n",
    "    \n",
    "- scikit-learn은 위의 알고리즘을 모두 지원해주는 라이브러리이다.\n",
    "- scikit-learn의 설치\n",
    "  - pip install scikit-learn scipy matplotlib"
   ]
  },
  {
   "cell_type": "code",
   "execution_count": 3,
   "metadata": {},
   "outputs": [],
   "source": [
    "import sklearn as sk"
   ]
  }
 ],
 "metadata": {
  "kernelspec": {
   "display_name": "Python 3",
   "language": "python",
   "name": "python3"
  },
  "language_info": {
   "codemirror_mode": {
    "name": "ipython",
    "version": 3
   },
   "file_extension": ".py",
   "mimetype": "text/x-python",
   "name": "python",
   "nbconvert_exporter": "python",
   "pygments_lexer": "ipython3",
   "version": "3.6.4"
  }
 },
 "nbformat": 4,
 "nbformat_minor": 2
}

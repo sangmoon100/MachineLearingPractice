{
 "cells": [
  {
   "cell_type": "code",
   "execution_count": 1,
   "metadata": {},
   "outputs": [],
   "source": [
    "from sklearn import svm"
   ]
  },
  {
   "cell_type": "code",
   "execution_count": 3,
   "metadata": {},
   "outputs": [
    {
     "data": {
      "text/plain": [
       "[[0, 0, 0], [0, 1, 1], [1, 0, 1], [1, 1, 0]]"
      ]
     },
     "execution_count": 3,
     "metadata": {},
     "output_type": "execute_result"
    }
   ],
   "source": [
    "xor_data = [\n",
    "    [0, 0, 0],\n",
    "    [0, 1, 1],\n",
    "    [1, 0, 1],\n",
    "    [1, 1, 0]\n",
    "]\n",
    "xor_data"
   ]
  },
  {
   "cell_type": "code",
   "execution_count": 7,
   "metadata": {},
   "outputs": [
    {
     "name": "stdout",
     "output_type": "stream",
     "text": [
      "[[0, 0], [0, 1], [1, 0], [1, 1]]\n",
      "[0, 1, 1, 0]\n"
     ]
    }
   ],
   "source": [
    "# 주어진 데이터를 분리한다. (학습데이터와 레이블은 분리)\n",
    "training_data = []\n",
    "label = []\n",
    "\n",
    "for row in xor_data:\n",
    "    p = row[0]\n",
    "    q = row[1]\n",
    "    res = row[2]\n",
    "    \n",
    "    training_data.append([p,q])\n",
    "    label.append(res)\n",
    "\n",
    "print(training_data)\n",
    "print(label)"
   ]
  },
  {
   "cell_type": "code",
   "execution_count": 10,
   "metadata": {},
   "outputs": [
    {
     "name": "stdout",
     "output_type": "stream",
     "text": [
      " 예측 결과 :  [0 1 1 0]\n"
     ]
    }
   ],
   "source": [
    "# SVM알로리즘을 사용하는 머신러닝 객체를 만든다.\n",
    "clf = svm.SVC()\n",
    "\n",
    "# fit() 메서드 : 학습기계에 데이터를 학습시킨다.\n",
    "clf.fit(training_data, label)\n",
    "\n",
    "# predict() 메서드 : 학습데이터를 이용하여 예측한다.\n",
    "pre = clf.predict(training_data)\n",
    "print(\" 예측 결과 : \", pre)"
   ]
  },
  {
   "cell_type": "code",
   "execution_count": 13,
   "metadata": {},
   "outputs": [
    {
     "name": "stdout",
     "output_type": "stream",
     "text": [
      " 정확도 :  4 / 4 = 1.0\n"
     ]
    }
   ],
   "source": [
    "ok = 0; total = 0\n",
    "\n",
    "for idx, answer in enumerate(label):\n",
    "    p = pre[idx]\n",
    "    if p == answer : ok += 1\n",
    "    total += 1\n",
    "\n",
    "print(\" 정확도 : \", ok, \"/\", total, \"=\", ok/total)"
   ]
  }
 ],
 "metadata": {
  "kernelspec": {
   "display_name": "Python 3",
   "language": "python",
   "name": "python3"
  },
  "language_info": {
   "codemirror_mode": {
    "name": "ipython",
    "version": 3
   },
   "file_extension": ".py",
   "mimetype": "text/x-python",
   "name": "python",
   "nbconvert_exporter": "python",
   "pygments_lexer": "ipython3",
   "version": "3.6.4"
  }
 },
 "nbformat": 4,
 "nbformat_minor": 2
}

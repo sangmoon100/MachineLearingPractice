{
 "cells": [
  {
   "cell_type": "markdown",
   "metadata": {},
   "source": [
    "- 인공지능 구현방식\n",
    "  - 지식공학 : 합리주의, Top-Down 형식, 전문가/장인들이 지식을 주입\n",
    "  - 머신러닝 : 경험주의, Bottom-Up, 데이터(때론 결과값도 같이)로부터 지식을 직접 학습"
   ]
  }
 ],
 "metadata": {
  "kernelspec": {
   "display_name": "Python 3",
   "language": "python",
   "name": "python3"
  },
  "language_info": {
   "codemirror_mode": {
    "name": "ipython",
    "version": 3
   },
   "file_extension": ".py",
   "mimetype": "text/x-python",
   "name": "python",
   "nbconvert_exporter": "python",
   "pygments_lexer": "ipython3",
   "version": "3.6.4"
  }
 },
 "nbformat": 4,
 "nbformat_minor": 2
}

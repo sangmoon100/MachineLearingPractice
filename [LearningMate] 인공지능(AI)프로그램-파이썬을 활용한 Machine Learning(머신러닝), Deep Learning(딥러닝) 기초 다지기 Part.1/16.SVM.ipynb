{
 "cells": [
  {
   "cell_type": "code",
   "execution_count": 3,
   "metadata": {},
   "outputs": [],
   "source": [
    "# 2만명의 BMI 데이터 만들기(CSV파일)\n",
    "import random"
   ]
  },
  {
   "cell_type": "code",
   "execution_count": 4,
   "metadata": {},
   "outputs": [],
   "source": [
    "# Body Mass Index(체질량 지수)\n",
    "def bmi(height, weight) :\n",
    "    bmi = weight/(height/100)**2\n",
    "    if bmi < 18.5 : return \"저체중\"\n",
    "    if bmi < 25 : return \"정상\"\n",
    "    return \"비만\""
   ]
  },
  {
   "cell_type": "code",
   "execution_count": 5,
   "metadata": {},
   "outputs": [
    {
     "data": {
      "text/plain": [
       "20"
      ]
     },
     "execution_count": 5,
     "metadata": {},
     "output_type": "execute_result"
    }
   ],
   "source": [
    "fp = open(\"bmi.csv\", \"w\", encoding = \"utf-8\")\n",
    "fp.write(\"height,weight,label\\n\")"
   ]
  },
  {
   "cell_type": "code",
   "execution_count": 6,
   "metadata": {},
   "outputs": [
    {
     "name": "stdout",
     "output_type": "stream",
     "text": [
      "ok  {'저체중': 2678, '정상': 2689, '비만': 4633}\n"
     ]
    }
   ],
   "source": [
    "# 데이터 생성하기\n",
    "cnt = {\"저체중\" : 0, \"정상\" : 0, \"비만\" : 0}\n",
    "\n",
    "for i in range(10000):\n",
    "    h = random.randint(120,200)\n",
    "    w = random.randint(35,90)\n",
    "    l = bmi(h,w)\n",
    "    cnt[l] += 1\n",
    "    fp.write(\"{0},{1},{2}\\n\".format(h, w, l))\n",
    "\n",
    "fp.close()\n",
    "print(\"ok \", cnt)"
   ]
  }
 ],
 "metadata": {
  "kernelspec": {
   "display_name": "Python 3",
   "language": "python",
   "name": "python3"
  },
  "language_info": {
   "codemirror_mode": {
    "name": "ipython",
    "version": 3
   },
   "file_extension": ".py",
   "mimetype": "text/x-python",
   "name": "python",
   "nbconvert_exporter": "python",
   "pygments_lexer": "ipython3",
   "version": "3.6.4"
  }
 },
 "nbformat": 4,
 "nbformat_minor": 2
}

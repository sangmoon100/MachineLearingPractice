{
 "cells": [
  {
   "cell_type": "code",
   "execution_count": 2,
   "metadata": {},
   "outputs": [],
   "source": [
    "from sklearn import svm, metrics\n",
    "import random, re"
   ]
  },
  {
   "cell_type": "code",
   "execution_count": 13,
   "metadata": {},
   "outputs": [],
   "source": [
    "# 붓꽃의 데이터를 읽어 들이기\n",
    "csv = []\n",
    "with open('iris.csv', 'r', encoding = 'utf-8') as fp:\n",
    "    # 한 줄씩 읽어 오기\n",
    "    for line in fp:\n",
    "        line = line.strip()   # 줄바꿈 제거\n",
    "        cols = line.split(',')# 쉼표로 컬럼을 구분\n",
    "        # 문자열 데이터를 숫자로 변환하기\n",
    "        fn = lambda n : float(n) if re.match(r'^[0-9\\.]+$',n) else n\n",
    "        cols = list(map(fn,cols))\n",
    "        csv.append(cols)"
   ]
  },
  {
   "cell_type": "code",
   "execution_count": 14,
   "metadata": {},
   "outputs": [],
   "source": [
    "# 헤더 제거(컬럼명 제거)\n",
    "del csv[0]"
   ]
  },
  {
   "cell_type": "code",
   "execution_count": 16,
   "metadata": {},
   "outputs": [],
   "source": [
    "# 데이터를 섞어주기\n",
    "random.shuffle(csv)\n",
    "\n",
    "# 훈련(학습) 데이터와 테스트 데이터로 분리하기\n",
    "total_len = len(csv)\n",
    "train_len = int(total_len*2/3)\n",
    "\n",
    "train_data = []\n",
    "train_label = []\n",
    "\n",
    "test_data = []\n",
    "test_label = []\n",
    "\n",
    "for i in range(total_len) : \n",
    "    data = csv[i][0:4]\n",
    "    label = csv[i][4]\n",
    "    if i < train_len:\n",
    "        train_data.append(data)\n",
    "        train_label.append(label)\n",
    "    else:\n",
    "        test_data.append(data)\n",
    "        test_label.append(label)"
   ]
  },
  {
   "cell_type": "code",
   "execution_count": 22,
   "metadata": {},
   "outputs": [
    {
     "name": "stdout",
     "output_type": "stream",
     "text": [
      "정확도 : 0.98\n"
     ]
    }
   ],
   "source": [
    "clf = svm.SVC()\n",
    "# 학습\n",
    "clf.fit(train_data,train_label)\n",
    "# 테스트\n",
    "pre_label = clf.predict(test_data)\n",
    "\n",
    "# 정확도 구하기\n",
    "ac_score = metrics.accuracy_score(test_label, pre_label)\n",
    "print(\"정확도 : {}\".format(ac_score))"
   ]
  }
 ],
 "metadata": {
  "kernelspec": {
   "display_name": "Python 3",
   "language": "python",
   "name": "python3"
  },
  "language_info": {
   "codemirror_mode": {
    "name": "ipython",
    "version": 3
   },
   "file_extension": ".py",
   "mimetype": "text/x-python",
   "name": "python",
   "nbconvert_exporter": "python",
   "pygments_lexer": "ipython3",
   "version": "3.6.4"
  }
 },
 "nbformat": 4,
 "nbformat_minor": 2
}

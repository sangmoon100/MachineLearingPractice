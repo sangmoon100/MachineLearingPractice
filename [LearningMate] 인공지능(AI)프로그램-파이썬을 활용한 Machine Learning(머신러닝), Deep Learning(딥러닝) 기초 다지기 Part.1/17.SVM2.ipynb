{
 "cells": [
  {
   "cell_type": "code",
   "execution_count": 3,
   "metadata": {},
   "outputs": [],
   "source": [
    "from sklearn import svm, metrics\n",
    "from sklearn.model_selection import train_test_split\n",
    "import pandas as pd"
   ]
  },
  {
   "cell_type": "code",
   "execution_count": 4,
   "metadata": {},
   "outputs": [],
   "source": [
    "# 키와 몸무게 데이터를 읽어 오기\n",
    "data = pd.read_csv(\"bmi.csv\")\n",
    "\n",
    "# 컬럼 분리\n",
    "l = data[\"label\"]\n",
    "h = data[\"height\"]/200\n",
    "w = data[\"weight\"]/100\n",
    "\n",
    "wh = pd.concat([w,h], axis = 1)"
   ]
  },
  {
   "cell_type": "code",
   "execution_count": 5,
   "metadata": {},
   "outputs": [
    {
     "name": "stdout",
     "output_type": "stream",
     "text": [
      "정확도 :  0.9864\n"
     ]
    }
   ],
   "source": [
    "# 학습 데이터와 테스트 데이터로 나누기\n",
    "data_train, data_test, label_train, label_test = train_test_split(wh, l)\n",
    "\n",
    "clf = svm.SVC()\n",
    "clf.fit(data_train, label_train)\n",
    "predict = clf.predict(data_test)\n",
    "\n",
    "ac_score = metrics.accuracy_score(label_test, predict)\n",
    "print(\"정확도 : \", ac_score)"
   ]
  }
 ],
 "metadata": {
  "kernelspec": {
   "display_name": "Python 3",
   "language": "python",
   "name": "python3"
  },
  "language_info": {
   "codemirror_mode": {
    "name": "ipython",
    "version": 3
   },
   "file_extension": ".py",
   "mimetype": "text/x-python",
   "name": "python",
   "nbconvert_exporter": "python",
   "pygments_lexer": "ipython3",
   "version": "3.6.4"
  }
 },
 "nbformat": 4,
 "nbformat_minor": 2
}

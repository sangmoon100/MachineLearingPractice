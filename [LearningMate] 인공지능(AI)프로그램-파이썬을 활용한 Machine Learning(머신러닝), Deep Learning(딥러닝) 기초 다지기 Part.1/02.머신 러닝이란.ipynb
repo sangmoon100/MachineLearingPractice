{
 "cells": [
  {
   "cell_type": "markdown",
   "metadata": {},
   "source": [
    "### 머신 러닝이란\n",
    "  - 명시적으로 프로그래밍을 하지 않고도 컴퓨터가 학습할 수 있는 능력을 갖게 하는 것\n",
    "  \n",
    "  - 사용예\n",
    "    - 데이터 마이닝\n",
    "      - 클릭기록, 의료기록, 유전자 분석등\n",
    "    - 수작업으로 프로그래밍 할 수 없는 것들\n",
    "      - 자율운행 헬리콥터, 얼굴 인식, 스팸 필터 등\n",
    "    - 개개인의 유저에게 최적화된 추천 알고리즘\n",
    "      - 상품추천, 영화추천"
   ]
  },
  {
   "cell_type": "markdown",
   "metadata": {},
   "source": [
    "- 씨앗 -> 영양분 -> 농부 -> 식물\n",
    "- 알고리즘 -> 데이터 -> 프로그래머 -> 프로그램"
   ]
  },
  {
   "cell_type": "markdown",
   "metadata": {},
   "source": [
    "### 머신러닝 알고리즘 분류\n",
    "\n",
    "- 학습방법\n",
    "  - 지도학습(Supervised Learning)\n",
    "    - 학습 테이터마다 레이블을 가지고 있음\n",
    "  - 비지도학습(Unsupervised Learning)\n",
    "    - 학습 데이터가 레이블을 가지고 있지 않음\n",
    "  - 준지도학습(Semi-Supervised Learning)\n",
    "    - 학습 데이터가 약간의 레이블을 가지고 있음\n",
    "  - 강화학습(Reinforcement Learning)\n",
    "    - 최종 출력이 바로 주어지지 않고 시간이 지나서 주어지는 경우(바둑..)"
   ]
  },
  {
   "cell_type": "markdown",
   "metadata": {},
   "source": [
    "### 머신러닝의 예(Netflix)\n",
    "- 온라인 DVD 없체\n",
    "- 10만개 이상의 영화 보유\n",
    "- 고객들이 영화를 골고루 볼수 있도록 관리\n",
    "- 고객의 취향에 맞는 영화 추천\n",
    "- 고객의 평점, 구매 내역을 활용함."
   ]
  }
 ],
 "metadata": {
  "kernelspec": {
   "display_name": "Python 3",
   "language": "python",
   "name": "python3"
  },
  "language_info": {
   "codemirror_mode": {
    "name": "ipython",
    "version": 3
   },
   "file_extension": ".py",
   "mimetype": "text/x-python",
   "name": "python",
   "nbconvert_exporter": "python",
   "pygments_lexer": "ipython3",
   "version": "3.6.4"
  }
 },
 "nbformat": 4,
 "nbformat_minor": 2
}
